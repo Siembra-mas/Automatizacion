{
 "cells": [
  {
   "cell_type": "markdown",
   "id": "1124abd9",
   "metadata": {},
   "source": [
    "### extraccion y seleccion de datos"
   ]
  },
  {
   "cell_type": "code",
   "execution_count": 10,
   "id": "43422dbe",
   "metadata": {},
   "outputs": [
    {
     "name": "stdout",
     "output_type": "stream",
     "text": [
      "✅ Datos guardados como LLUVIA MÁXIMA 24 H.-ACTOPAN\n"
     ]
    }
   ],
   "source": [
    "import csv\n",
    "\n",
    "# Ruta del archivo .txt (ajústala según tu sistema operativo si es necesario)\n",
    "ruta_archivo = r\"TXT/ACTOPAN.txt\"\n",
    "\n",
    "# Flags de control\n",
    "extraer = False\n",
    "datos = []\n",
    "\n",
    "Nombre =\"LLUVIA MÁXIMA 24 H.\"\n",
    "NombreN = Nombre +\"-ACTOPAN\"\n",
    "\n",
    "# Leer el archivo línea por línea\n",
    "with open(ruta_archivo, 'r', encoding='utf-8') as archivo:\n",
    "    for linea in archivo:\n",
    "        linea = linea.strip()\n",
    "\n",
    "        # Inicia el bloque de interés\n",
    "        if Nombre in linea.upper():\n",
    "            extraer = True\n",
    "            continue\n",
    "\n",
    "        # Si empieza con \"AÑO\", guardamos la cabecera\n",
    "        if extraer and linea.upper().startswith(\"AÑO\"):\n",
    "            encabezados = linea.split()\n",
    "            datos.append(encabezados)\n",
    "            continue\n",
    "\n",
    "        # Si estamos dentro del bloque, buscamos filas por año\n",
    "        if extraer:\n",
    "            if linea and linea[0:4].isdigit():\n",
    "                anio = int(linea[0:4])\n",
    "                if 2015 <= anio <= 2025:\n",
    "                    fila = linea.split()\n",
    "                    datos.append(fila)\n",
    "\n",
    "            # Si detectamos una línea vacía, asumimos que terminó el bloque\n",
    "            elif linea == \"\":\n",
    "                break\n",
    "\n",
    "# Guardar en CSV\n",
    "with open(\"TXT/\" + NombreN + \".csv \", \"w\", newline='', encoding='utf-8') as salida:\n",
    "    escritor = csv.writer(salida)\n",
    "    escritor.writerows(datos)\n",
    "\n",
    "print(\"✅ Datos guardados como \" + NombreN)\n"
   ]
  },
  {
   "cell_type": "markdown",
   "id": "5724db84",
   "metadata": {},
   "source": [
    "### Eliminacion de filas"
   ]
  },
  {
   "cell_type": "code",
   "execution_count": 12,
   "id": "af2556f0",
   "metadata": {},
   "outputs": [],
   "source": [
    "import pandas as pd\n",
    "\n",
    "datos = pd.read_csv(r\"TXT/\" + NombreN + \".csv\")\n",
    "#elimina las flas acum prom y meses\n",
    "datos = datos.drop(columns=['ACUM', 'PROM', 'MESES'])\n",
    "#cambia los nombres de las columnas ENE, FEB, MAR, etc. por 1, 2, 3, etc.\n",
    "nuevas_columnas = ['AÑO'] + [str(i) for i in range(1, len(datos.columns))]\n",
    "datos.columns = nuevas_columnas\n",
    "\n",
    "datos.head(14)\n",
    "\n",
    "#Se genera el nuevo csv\n",
    "datos.to_csv(\"CsvLimpio/\" + NombreN + \".csv\", index=False)"
   ]
  },
  {
   "cell_type": "markdown",
   "id": "cfce5791",
   "metadata": {},
   "source": [
    "### Eliminacion del csv creado primero"
   ]
  },
  {
   "cell_type": "code",
   "execution_count": 13,
   "id": "08567033",
   "metadata": {},
   "outputs": [
    {
     "name": "stdout",
     "output_type": "stream",
     "text": [
      "✅ Archivo original eliminado.\n"
     ]
    }
   ],
   "source": [
    "#eliminar el csv original\n",
    "import os\n",
    "\n",
    "os.remove(\"TXT/\" + NombreN + \".csv\")\n",
    "print(\"✅ Archivo original eliminado.\")"
   ]
  }
 ],
 "metadata": {
  "kernelspec": {
   "display_name": "Python 3",
   "language": "python",
   "name": "python3"
  },
  "language_info": {
   "codemirror_mode": {
    "name": "ipython",
    "version": 3
   },
   "file_extension": ".py",
   "mimetype": "text/x-python",
   "name": "python",
   "nbconvert_exporter": "python",
   "pygments_lexer": "ipython3",
   "version": "3.11.0"
  }
 },
 "nbformat": 4,
 "nbformat_minor": 5
}
